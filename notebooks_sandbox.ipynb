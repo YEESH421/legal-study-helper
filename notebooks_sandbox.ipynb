{
  "cells": [
    {
      "attachments": {},
      "cell_type": "markdown",
      "id": "ca3607ca-4ab3-4072-a4b9-412329e0b747",
      "metadata": {},
      "source": [
        "# Demo for reading and summarizing research articles\n",
        "Since studies are almost always in PDF format, we need to find a way to read them and get meaningful information out of them. For this purpose, I will be using PyPDF2 to extract the plaintext, and openAI's GPT language model to make sense of the output.\n"
      ]
    },
    {
      "cell_type": "code",
      "execution_count": 1,
      "id": "3b922b32-881d-4c46-80b1-6c48e36abab3",
      "metadata": {
        "tags": [],
        "trusted": true
      },
      "outputs": [
        {
          "name": "stdout",
          "output_type": "stream",
          "text": [
            "Requirement already satisfied: PyPDF2 in c:\\python\\lib\\site-packages (3.0.1)\n",
            "Requirement already satisfied: typing_extensions>=3.10.0.0; python_version < \"3.10\" in c:\\python\\lib\\site-packages (from PyPDF2) (4.6.2)\n"
          ]
        },
        {
          "name": "stderr",
          "output_type": "stream",
          "text": [
            "You are using pip version 19.0.3, however version 23.1.2 is available.\n",
            "You should consider upgrading via the 'python -m pip install --upgrade pip' command.\n"
          ]
        },
        {
          "name": "stdout",
          "output_type": "stream",
          "text": [
            "Collecting openai\n",
            "  Using cached https://files.pythonhosted.org/packages/35/c3/de7124146c3edbe8fd8163028d9ac998f2fd5dcda9225655f1d4ed684bbc/openai-0.27.7-py3-none-any.whl\n",
            "Requirement already satisfied: typing-extensions; python_version < \"3.8\" in c:\\python\\lib\\site-packages (from openai) (4.6.2)\n",
            "Collecting aiohttp (from openai)\n",
            "  Downloading https://files.pythonhosted.org/packages/ed/a2/48800f019182f280fda78d8d5d5f964a0d41a2eaabfd2868d8eed0baefae/aiohttp-3.8.4-cp37-cp37m-win32.whl (306kB)\n",
            "Requirement already satisfied: requests>=2.20 in c:\\python\\lib\\site-packages (from openai) (2.25.0)\n",
            "Collecting tqdm (from openai)\n",
            "  Using cached https://files.pythonhosted.org/packages/e6/02/a2cff6306177ae6bc73bc0665065de51dfb3b9db7373e122e2735faf0d97/tqdm-4.65.0-py3-none-any.whl\n",
            "Collecting aiosignal>=1.1.2 (from aiohttp->openai)\n",
            "  Using cached https://files.pythonhosted.org/packages/76/ac/a7305707cb852b7e16ff80eaf5692309bde30e2b1100a1fcacdc8f731d97/aiosignal-1.3.1-py3-none-any.whl\n",
            "Collecting charset-normalizer<4.0,>=2.0 (from aiohttp->openai)\n",
            "  Downloading https://files.pythonhosted.org/packages/07/6b/98d41a0221991a806e88c95bfeecf8935fbf465b02eb4b469770d572183a/charset_normalizer-3.1.0-cp37-cp37m-win32.whl (88kB)\n",
            "Collecting asynctest==0.13.0; python_version < \"3.8\" (from aiohttp->openai)\n",
            "  Downloading https://files.pythonhosted.org/packages/e8/b6/8d17e169d577ca7678b11cd0d3ceebb0a6089a7f4a2de4b945fe4b1c86db/asynctest-0.13.0-py3-none-any.whl\n",
            "Collecting yarl<2.0,>=1.0 (from aiohttp->openai)\n",
            "  Downloading https://files.pythonhosted.org/packages/10/b1/13887c4fbf885d64f4b8c1bac403338f7c1c07a34e63d767af8d0972c28d/yarl-1.9.2-cp37-cp37m-win32.whl (57kB)\n",
            "Collecting attrs>=17.3.0 (from aiohttp->openai)\n",
            "  Using cached https://files.pythonhosted.org/packages/f0/eb/fcb708c7bf5056045e9e98f62b93bd7467eb718b0202e7698eb11d66416c/attrs-23.1.0-py3-none-any.whl\n",
            "Collecting async-timeout<5.0,>=4.0.0a3 (from aiohttp->openai)\n",
            "  Using cached https://files.pythonhosted.org/packages/d6/c1/8991e7c5385b897b8c020cdaad718c5b087a6626d1d11a23e1ea87e325a7/async_timeout-4.0.2-py3-none-any.whl\n",
            "Collecting multidict<7.0,>=4.5 (from aiohttp->openai)\n",
            "  Downloading https://files.pythonhosted.org/packages/89/70/6cb6d8e81d269fff05624bbd2db0a98351ed2f655c39a8f8761c362b4755/multidict-6.0.4-cp37-cp37m-win32.whl\n",
            "Collecting frozenlist>=1.1.1 (from aiohttp->openai)\n",
            "  Downloading https://files.pythonhosted.org/packages/da/90/3caad1cc6bb8c6716f498a3d47c71c095683dab17530699a13fa8c0b872f/frozenlist-1.3.3-cp37-cp37m-win32.whl\n",
            "Requirement already satisfied: idna<3,>=2.5 in c:\\python\\lib\\site-packages (from requests>=2.20->openai) (2.10)\n",
            "Requirement already satisfied: certifi>=2017.4.17 in c:\\python\\lib\\site-packages (from requests>=2.20->openai) (2020.12.5)\n",
            "Requirement already satisfied: chardet<4,>=3.0.2 in c:\\python\\lib\\site-packages (from requests>=2.20->openai) (3.0.4)\n",
            "Requirement already satisfied: urllib3<1.27,>=1.21.1 in c:\\python\\lib\\site-packages (from requests>=2.20->openai) (1.26.2)\n",
            "Requirement already satisfied: colorama; platform_system == \"Windows\" in c:\\users\\tzhou\\appdata\\roaming\\python\\python37\\site-packages (from tqdm->openai) (0.4.3)\n",
            "Collecting importlib-metadata; python_version < \"3.8\" (from attrs>=17.3.0->aiohttp->openai)\n",
            "  Using cached https://files.pythonhosted.org/packages/30/bb/bf2944b8b88c65b797acc2c6a2cb0fb817f7364debf0675792e034013858/importlib_metadata-6.6.0-py3-none-any.whl\n",
            "Collecting zipp>=0.5 (from importlib-metadata; python_version < \"3.8\"->attrs>=17.3.0->aiohttp->openai)\n",
            "  Using cached https://files.pythonhosted.org/packages/5b/fa/c9e82bbe1af6266adf08afb563905eb87cab83fde00a0a08963510621047/zipp-3.15.0-py3-none-any.whl\n",
            "Installing collected packages: frozenlist, aiosignal, charset-normalizer, asynctest, multidict, yarl, zipp, importlib-metadata, attrs, async-timeout, aiohttp, tqdm, openai\n",
            "Successfully installed aiohttp-3.8.4 aiosignal-1.3.1 async-timeout-4.0.2 asynctest-0.13.0 attrs-23.1.0 charset-normalizer-3.1.0 frozenlist-1.3.3 importlib-metadata-6.6.0 multidict-6.0.4 openai-0.27.7 tqdm-4.65.0 yarl-1.9.2 zipp-3.15.0\n"
          ]
        },
        {
          "name": "stderr",
          "output_type": "stream",
          "text": [
            "You are using pip version 19.0.3, however version 23.1.2 is available.\n",
            "You should consider upgrading via the 'python -m pip install --upgrade pip' command.\n"
          ]
        }
      ],
      "source": [
        "!pip install PyPDF2\n",
        "!pip install openai"
      ]
    },
    {
      "attachments": {},
      "cell_type": "markdown",
      "id": "00a78942-baeb-4b58-a075-93aaacb3be5a",
      "metadata": {},
      "source": [
        "## Text Extraction\n",
        "First, upload a paper in the local directory. Then, use PyPDF2 to iterate and read each page and store each page in a list"
      ]
    },
    {
      "cell_type": "code",
      "execution_count": 12,
      "id": "d9314297-1230-4bca-99ac-b69d98ddf950",
      "metadata": {
        "trusted": true
      },
      "outputs": [
        {
          "name": "stdout",
          "output_type": "stream",
          "text": [
            "2\n"
          ]
        }
      ],
      "source": [
        "from PyPDF2 import PdfReader\n",
        "\n",
        "#this visitor function helps with cutting off unnecessary header/footer text\n",
        "def visitor_body(text, cm, tm, font_dict, font_size):\n",
        "    y = tm[5]\n",
        "    if y > 10 and y < 780:\n",
        "        parts.append(text)\n",
        "        \n",
        "reader = PdfReader(\"paper1.pdf\")\n",
        "number_of_pages = len(reader.pages)\n",
        "pageList = [\"\"] * number_of_pages\n",
        "for i in range(number_of_pages):\n",
        "    parts = []\n",
        "    reader.pages[i].extract_text(visitor_text=visitor_body).lower()\n",
        "    text_body = \"\".join(parts)\n",
        "    # print(text_body)\n",
        "    pageList[i] = text_body\n",
        "\n",
        "#print first 100 chars of first page for demonstration\n",
        "print(pageList[1][0])"
      ]
    },
    {
      "attachments": {},
      "cell_type": "markdown",
      "id": "3d7bb7e2-1f9f-465d-9b5a-4a9d981797ae",
      "metadata": {},
      "source": [
        "## Summarize Pages using GPT\n"
      ]
    },
    {
      "cell_type": "code",
      "execution_count": 15,
      "id": "fbd1e930-0045-420b-943b-1b1cf358c7ad",
      "metadata": {},
      "outputs": [
        {
          "name": "stdout",
          "output_type": "stream",
          "text": [
            "This paper discusses the possible association between ovarian carcinoma and the use of talcum powder. Results from previous studies have been mixed and varied from no significant risk to risks increased by twofold. The study interviewed 450 patients with ovarian carcinoma and 564 population controls in Canada, and found that exposure to talc via sanitary napkins or direct application to the perineum was significantly associated with ovarian carcinoma risk. Duration of exposure also showed a borderline-significant association with risk. The study suggests further investigations on the role of talc in the etiology of ovarian carcinoma are needed.\n",
            "\n"
          ]
        }
      ],
      "source": [
        "import openai\n",
        "\n",
        "#fill in your openAI apiKey here\n",
        "openai.api_key = \"\"\n",
        "\n",
        "summary = ''\n",
        "for page in pageList[:2]:\n",
        "    if page != \"\":    \n",
        "        response = openai.ChatCompletion.create(\n",
        "            model=\"gpt-3.5-turbo\",\n",
        "            messages=[\n",
        "            {\"role\": \"system\", \"content\": \"You are a helpful research assistant.\"},\n",
        "            {\"role\": \"user\", \"content\": f\"Summarize this academic paper: {page}\"},\n",
        "            ],\n",
        "        )\n",
        "        page_summary = response[\"choices\"][0][\"message\"][\"content\"]\n",
        "        summary += page_summary + \"\\n\"\n",
        "\n",
        "print(summary)\n",
        "\n",
        "\n"
      ]
    }
  ],
  "metadata": {
    "kernelspec": {
      "display_name": "Python 3",
      "language": "python",
      "name": "python3"
    },
    "language_info": {
      "codemirror_mode": {
        "name": "ipython",
        "version": 3
      },
      "file_extension": ".py",
      "mimetype": "text/x-python",
      "name": "python",
      "nbconvert_exporter": "python",
      "pygments_lexer": "ipython3",
      "version": "3.9.1"
    }
  },
  "nbformat": 4,
  "nbformat_minor": 5
}
